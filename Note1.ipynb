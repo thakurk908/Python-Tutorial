{
 "cells": [
  {
   "cell_type": "code",
   "execution_count": 2,
   "metadata": {},
   "outputs": [
    {
     "name": "stdout",
     "output_type": "stream",
     "text": [
      "i : 11\n",
      "i : 22\n",
      "i : 33\n",
      "i : 44\n"
     ]
    }
   ],
   "source": [
    "#type 1\n",
    "for i in [11,22,33,44]:\n",
    "    print (\"i :\",i)\n"
   ]
  },
  {
   "cell_type": "code",
   "execution_count": 1,
   "metadata": {},
   "outputs": [
    {
     "name": "stdout",
     "output_type": "stream",
     "text": [
      "i:  0\n",
      "i:  1\n",
      "i:  2\n",
      "i:  3\n",
      "i:  4\n"
     ]
    }
   ],
   "source": [
    "#type 2\n",
    "#first index will be inclusive \n",
    "#last index will be exclusive\n",
    "for i in range(0,5):\n",
    "    print (\"i: \",i)"
   ]
  },
  {
   "cell_type": "code",
   "execution_count": 3,
   "metadata": {},
   "outputs": [
    {
     "name": "stdout",
     "output_type": "stream",
     "text": [
      "i:  0\n",
      "i:  2\n",
      "i:  4\n",
      "i:  6\n",
      "i:  8\n"
     ]
    }
   ],
   "source": [
    "#third argument of for loop will be the step\n",
    "for i in range(0,10,2):\n",
    "    print(\"i: \",i)"
   ]
  },
  {
   "cell_type": "code",
   "execution_count": 4,
   "metadata": {},
   "outputs": [
    {
     "name": "stdout",
     "output_type": "stream",
     "text": [
      "i:  10\n",
      "i:  9\n",
      "i:  8\n",
      "i:  7\n",
      "i:  6\n",
      "i:  5\n",
      "i:  4\n",
      "i:  3\n",
      "i:  2\n",
      "i:  1\n"
     ]
    }
   ],
   "source": [
    "#reverse printing\n",
    "for i in range(10,0,-1):\n",
    "    print(\"i: \",i)"
   ]
  },
  {
   "cell_type": "code",
   "execution_count": 5,
   "metadata": {},
   "outputs": [
    {
     "name": "stdin",
     "output_type": "stream",
     "text": [
      " 8\n"
     ]
    },
    {
     "name": "stdout",
     "output_type": "stream",
     "text": [
      "*******\n",
      ".*****\n",
      "..***\n",
      "...*\n",
      "..***\n",
      ".*****\n",
      "*******\n"
     ]
    },
    {
     "data": {
      "text/plain": [
       "'\\nUpper\\nn-1\\n2*(i-m)+1\\nlower\\ni-1\\n2*(m-i)+1\\n'"
      ]
     },
     "execution_count": 5,
     "metadata": {},
     "output_type": "execute_result"
    }
   ],
   "source": [
    "n=int(input())\n",
    "for i in range(1,n):\n",
    "    k=(n)/2\n",
    "    if(i<=k):\n",
    "        print(\".\"*(i-1),end=\"\")\n",
    "        print(\"*\"*(n-2*i+1),end=\"\")\n",
    "        print(\"\")\n",
    "    else:\n",
    "        print(\".\"*((n-1)-i),end=\"\")\n",
    "        print(\"*\"*(2*i-(n-1)),end=\"\")\n",
    "        print(\"\")\n",
    "\n",
    "\"\"\"\n",
    "Upper\n",
    "n-1\n",
    "2*(i-m)+1\n",
    "lower\n",
    "i-1\n",
    "2*(m-i)+1\n",
    "\"\"\""
   ]
  },
  {
   "cell_type": "code",
   "execution_count": 6,
   "metadata": {},
   "outputs": [
    {
     "name": "stdin",
     "output_type": "stream",
     "text": [
      " 8\n"
     ]
    },
    {
     "name": "stdout",
     "output_type": "stream",
     "text": [
      "*******\n",
      ".*****\n",
      "..***\n",
      "...*\n",
      "..***\n",
      ".*****\n",
      "*******\n"
     ]
    },
    {
     "data": {
      "text/plain": [
       "'\\nUpper\\nn-1\\n2*(i-m)+1\\nlower\\ni-1\\n2*(m-i)+1\\n'"
      ]
     },
     "execution_count": 6,
     "metadata": {},
     "output_type": "execute_result"
    }
   ],
   "source": [
    "n=int(input())\n",
    "for i in range(1,n):\n",
    "    k=(n)/2\n",
    "    if(i<=k):\n",
    "        print(\".\"*(i-1),end=\"\")\n",
    "        print(\"*\"*(n-2*i+1),end=\"\")\n",
    "        print(\"\")\n",
    "    else:\n",
    "        print(\".\"*((n-1)-i),end=\"\")\n",
    "        print(\"*\"*(2*i-(n-1)),end=\"\")\n",
    "        print(\"\")\n",
    "\n",
    "\"\"\"\n",
    "Upper\n",
    "n-1\n",
    "2*(i-m)+1\n",
    "lower\n",
    "i-1\n",
    "2*(m-i)+1\n",
    "\"\"\""
   ]
  },
  {
   "cell_type": "code",
   "execution_count": 8,
   "metadata": {},
   "outputs": [
    {
     "name": "stdin",
     "output_type": "stream",
     "text": [
      " 1238\n"
     ]
    },
    {
     "name": "stdout",
     "output_type": "stream",
     "text": [
      "5\n"
     ]
    }
   ],
   "source": [
    "\"\"\"\n",
    "Assignment 2:\n",
    "DIgital Root\n",
    "ex\n",
    "input:1291\n",
    "output:13=4\n",
    "\"\"\"\n",
    "n=int(input())\n",
    "while(n>9):\n",
    "    s=0\n",
    "    while(n != 0):\n",
    "        x=n%10\n",
    "        s=s+x\n",
    "        n=n//10\n",
    "    n=s\n",
    "print(s)"
   ]
  },
  {
   "cell_type": "code",
   "execution_count": null,
   "metadata": {},
   "outputs": [],
   "source": [
    "\"\"\"\n",
    "Functions and Function calls\n",
    "def func_name(arg1,arg2,...):\n",
    "    Statement Block\n",
    "\"\"\""
   ]
  },
  {
   "cell_type": "code",
   "execution_count": 9,
   "metadata": {},
   "outputs": [
    {
     "data": {
      "text/plain": [
       "24"
      ]
     },
     "execution_count": 9,
     "metadata": {},
     "output_type": "execute_result"
    }
   ],
   "source": [
    "\"\"\"Factorial\"\"\"\n",
    "def factorial(n):\n",
    "    if(n==1):\n",
    "        return (n)\n",
    "    elif(n==0):\n",
    "        return (n)\n",
    "    else:\n",
    "        fact=1\n",
    "        for i in range(1,n+1):\n",
    "            fact*=i\n",
    "        return(fact)\n",
    "factorial(4)"
   ]
  },
  {
   "cell_type": "code",
   "execution_count": 10,
   "metadata": {},
   "outputs": [
    {
     "data": {
      "text/plain": [
       "6"
      ]
     },
     "execution_count": 10,
     "metadata": {},
     "output_type": "execute_result"
    }
   ],
   "source": [
    "\"\"\"Factorial\"\"\"\n",
    "def factorial(n):\n",
    "    if(n==1):\n",
    "        return (1)\n",
    "    elif(n==0):\n",
    "        return (1)\n",
    "    else:\n",
    "        return(n*factorial(n-1))\n",
    "factorial(3)"
   ]
  },
  {
   "cell_type": "code",
   "execution_count": 12,
   "metadata": {},
   "outputs": [
    {
     "name": "stdout",
     "output_type": "stream",
     "text": [
      " arg1 : 2 \n",
      " arg2 : 3 \n",
      " arg3 : 4\n",
      "\n",
      " arg1 : 2 \n",
      " arg2 : 3 \n",
      " arg3 : 50\n",
      "\n",
      " arg1 : 2 \n",
      " arg2 : 50 \n",
      " arg3 : 50\n",
      "\n"
     ]
    }
   ],
   "source": [
    "#default args\n",
    "def myfunc(arg1,arg2=50,arg3=50):\n",
    "    print(\" arg1 : {} \\n arg2 : {} \\n arg3 : {}\".format(arg1,arg2,arg3))\n",
    "    print(\"\")\n",
    "myfunc(2,3,4)\n",
    "myfunc(2,3)\n",
    "myfunc(2)"
   ]
  },
  {
   "cell_type": "code",
   "execution_count": 13,
   "metadata": {},
   "outputs": [
    {
     "name": "stdout",
     "output_type": "stream",
     "text": [
      " arg1 : 2 \n",
      " arg2 : 3 \n",
      " arg3 : 4\n",
      "\n",
      " arg1 : 2 \n",
      " arg2 : 50 \n",
      " arg3 : 11\n",
      "\n",
      " arg1 : 5 \n",
      " arg2 : Klaus \n",
      " arg3 : 49\n",
      "\n",
      " arg1 : 2 \n",
      " arg2 : 50 \n",
      " arg3 : 49\n",
      "\n"
     ]
    }
   ],
   "source": [
    "def myfunc(arg1,arg2=50,arg3=49):\n",
    "    print(\" arg1 : {} \\n arg2 : {} \\n arg3 : {}\".format(arg1,arg2,arg3))\n",
    "    print(\"\")\n",
    "myfunc(2,3,4)\n",
    "myfunc(arg1=2,arg3=11)\n",
    "myfunc(5,arg2=\"Klaus\")\n",
    "myfunc(2)"
   ]
  },
  {
   "cell_type": "code",
   "execution_count": 3,
   "metadata": {},
   "outputs": [
    {
     "name": "stdin",
     "output_type": "stream",
     "text": [
      " 4\n"
     ]
    },
    {
     "name": "stdout",
     "output_type": "stream",
     "text": [
      "Square of the number 4 is 16\n"
     ]
    }
   ],
   "source": [
    "# lamda function (anynomous Function)\n",
    "#Syntax:\n",
    "\"\"\"\n",
    "variable=lambda arg1,arg2,...:expression\n",
    "note: Only one expression\n",
    "note: any number of arguments\n",
    "note: here variable holds a function\n",
    "\"\"\"\n",
    "\n",
    "square = lambda num: num * num\n",
    "#calling lambda \n",
    "n=int(input())\n",
    "print(\"Square of the number {} is {}\".format(n,square(n)))\n"
   ]
  },
  {
   "cell_type": "code",
   "execution_count": null,
   "metadata": {},
   "outputs": [],
   "source": [
    "square = lambda num1,num2=10: num1 + num2\n",
    "#calling lambda function\n",
    "n1=int(input())\n",
    "n2=int(input())\n",
    "print(\"Sum of the number {} and {} is {}\".format(n1,n2,square(n1,n2)))\n",
    "#default parameter\n",
    "print(\"Sum of the number {} and {} is {}\".format(n1,10,square(n1)))"
   ]
  },
  {
   "cell_type": "code",
   "execution_count": null,
   "metadata": {},
   "outputs": [],
   "source": [
    "#string slicing\n",
    "mystr = 'UNIVERSITY'\n",
    "print(mystr[0:4])\n",
    "print(mystr[4:])\n",
    "print(mystr[:5])\n",
    "print(mystr[-5:-1])\n",
    "print(mystr[-6:])\n",
    "print(mystr[:-6])\n",
    "print(mystr[-8:8])\n",
    "print(mystr[-3:-8])\n",
    "print(mystr[8:0:-1])\n",
    "'''\n",
    "OUTPUT:\n",
    "\n",
    "UNIV\n",
    "ERSITY\n",
    "UNIVE\n",
    "RSIT\n",
    "ERSITY\n",
    "UNIV\n",
    "IVERSI\n",
    "BLANK LINE\n",
    "TISREVIN\n",
    "'''"
   ]
  },
  {
   "cell_type": "code",
   "execution_count": null,
   "metadata": {},
   "outputs": [],
   "source": [
    "mystr=\"CaLcuTTa uNiveRSiTy\"\n",
    "print(mystr)\n",
    "print (mystr.capitalize())\n",
    "print (mystr.upper())\n",
    "print (mystr.lower())\n",
    "print (mystr.swapcase())\n",
    "#mystr.tab listsout all the methods.\n",
    "print (mystr.find(\"TTa\"))\n",
    "print (mystr.find(\"tta\"))\n",
    "print (mystr.index(\"TTa\"))\n",
    "print (mystr.index(\"tta\"))\n",
    "\n",
    "\n",
    "\"\"\"\n",
    "5\n",
    "-1 (find can handle error)\n",
    "5\n",
    "---------------------------------------------------------------------------\n",
    "ValueError                                Traceback (most recent call last)\n",
    "<ipython-input-11-172201a22104> in <module>\n",
    "      9 print (mystr.find(\"tta\"))\n",
    "     10 print (mystr.index(\"TTa\"))\n",
    "---> 11 print (mystr.index(\"tta\"))\n",
    "\n",
    "ValueError: substring not found  NOTE:(index CANNOT HANDLE ERROR)\n",
    "\"\"\""
   ]
  },
  {
   "cell_type": "code",
   "execution_count": 19,
   "metadata": {},
   "outputs": [
    {
     "name": "stdout",
     "output_type": "stream",
     "text": [
      "False\n",
      "False\n",
      "False\n",
      "False\n",
      "***hello**world*** 18\n",
      "hello**world 12\n",
      "hello**world*** 15\n",
      "***hello**world 15\n"
     ]
    }
   ],
   "source": [
    "mystr=\"CaLcuTTa uNiveRSiTy\"\n",
    "print (mystr.isalpha())\n",
    "#Checks if all the elements are alphabets only.(space is also not considered as alphabet)\n",
    "print (mystr.isalnum())\n",
    "#Checks if all the elements are alphabets and digits both.\n",
    "print (mystr.isnumeric())\n",
    "#Checks if all the elements are digits only.\n",
    "print (mystr.isdigit())\n",
    "#Checks if all the elements are digits only.\n",
    "mystr=\"***hello**world***\"\n",
    "print (mystr,len(mystr))\n",
    "print (mystr.strip(\"*\"),len(mystr.strip(\"*\")))\n",
    "print (mystr.lstrip(\"*\"),len(mystr.lstrip(\"*\")))\n",
    "print (mystr.rstrip(\"*\"),len(mystr.rstrip(\"*\")))"
   ]
  },
  {
   "cell_type": "code",
   "execution_count": 1,
   "metadata": {},
   "outputs": [
    {
     "name": "stdout",
     "output_type": "stream",
     "text": [
      "Old Year\n",
      "New Year\n"
     ]
    }
   ],
   "source": [
    "mystr=\"Old Year\"\n",
    "print(mystr)\n",
    "mystr=mystr.replace(\"Old\",\"New\")\n",
    "print(mystr)"
   ]
  },
  {
   "cell_type": "code",
   "execution_count": 4,
   "metadata": {},
   "outputs": [
    {
     "name": "stdout",
     "output_type": "stream",
     "text": [
      "['Wishing', 'you', 'a', 'happy', 'new', 'year']\n",
      "Wishing\n",
      "you\n",
      "a\n",
      "happy\n",
      "new\n",
      "year\n",
      "y\n",
      "e\n",
      "a\n",
      "r\n"
     ]
    }
   ],
   "source": [
    "mystr = \"Wishing you a happy new year\"\n",
    "mylist = mystr.split(\" \")\n",
    "print (mylist)\n",
    "for i in mylist:\n",
    "    print (i)\n",
    "for j in i:\n",
    "    print(j)"
   ]
  },
  {
   "cell_type": "code",
   "execution_count": 10,
   "metadata": {},
   "outputs": [
    {
     "name": "stdout",
     "output_type": "stream",
     "text": [
      "True\n",
      "True\n",
      "True\n",
      "False\n"
     ]
    }
   ],
   "source": [
    "mystr=\"university\"\n",
    "print (mystr.endswith(\"sity\"))\n",
    "print (mystr.endswith(\"ver\",3,6))\n",
    "print (mystr.endswith(\"ver\",-7,-4))\n",
    "print (mystr.endswith(\"ver\"))"
   ]
  },
  {
   "cell_type": "code",
   "execution_count": 11,
   "metadata": {},
   "outputs": [
    {
     "name": "stdout",
     "output_type": "stream",
     "text": [
      "False\n",
      "True\n",
      "True\n",
      "False\n"
     ]
    }
   ],
   "source": [
    "mystr=\"university\"\n",
    "print (mystr.startswith(\"sity\"))\n",
    "print (mystr.startswith(\"ver\",3))\n",
    "print (mystr.startswith(\"ver\",-7,-4))\n",
    "print (mystr.startswith(\"ver\"))"
   ]
  },
  {
   "cell_type": "code",
   "execution_count": 12,
   "metadata": {},
   "outputs": [
    {
     "name": "stdout",
     "output_type": "stream",
     "text": [
      "False\n",
      "True\n",
      "True\n",
      "False\n",
      "False\n",
      "False\n"
     ]
    }
   ],
   "source": [
    "mystr=\"calcutta\"\n",
    "print (mystr.isupper())\n",
    "print (mystr.islower())\n",
    "mystr=\"CALCUTTA\"\n",
    "print (mystr.isupper())\n",
    "print (mystr.islower())\n",
    "mystr=\"calCUTTA\"\n",
    "print (mystr.isupper())\n",
    "print (mystr.islower())"
   ]
  },
  {
   "cell_type": "code",
   "execution_count": 13,
   "metadata": {},
   "outputs": [
    {
     "name": "stdout",
     "output_type": "stream",
     "text": [
      "False\n",
      "True\n"
     ]
    }
   ],
   "source": [
    "mystr=\"calCUTTA\"\n",
    "print (mystr.isspace())\n",
    "mystr=\"  \"\n",
    "print (mystr.isspace())"
   ]
  },
  {
   "cell_type": "code",
   "execution_count": 14,
   "metadata": {},
   "outputs": [
    {
     "name": "stdout",
     "output_type": "stream",
     "text": [
      "calCUTTA CALcutta\n"
     ]
    }
   ],
   "source": [
    "mystr=\"calCUTTA\"\n",
    "print (mystr,mystr.swapcase())\n"
   ]
  },
  {
   "cell_type": "code",
   "execution_count": 21,
   "metadata": {},
   "outputs": [
    {
     "name": "stdout",
     "output_type": "stream",
     "text": [
      "150 632 16 766 -151 750\n"
     ]
    }
   ],
   "source": [
    "a=150\n",
    "b=632\n",
    "\"\"\"\n",
    "a= 128 + 16 + 4 + 2\n",
    "a= 0000 0000 1001 0110\n",
    "b= 512 + 64 + 32 + 16 + 8\n",
    "b= 0000 0001 0111 1000\n",
    "\"\"\"\n",
    "print (a,b,a&b,a|b,~a,a^b)"
   ]
  },
  {
   "cell_type": "code",
   "execution_count": 20,
   "metadata": {},
   "outputs": [
    {
     "name": "stdout",
     "output_type": "stream",
     "text": [
      "True\n",
      "False\n"
     ]
    }
   ],
   "source": [
    "a= 5>4 and 3>2\n",
    "print (a)\n",
    "a= 5>4 and 3>12\n",
    "print (a)"
   ]
  },
  {
   "cell_type": "code",
   "execution_count": 27,
   "metadata": {},
   "outputs": [
    {
     "name": "stdout",
     "output_type": "stream",
     "text": [
      "5\n",
      "4\n",
      "3.0\n",
      "20.085536923187668\n",
      "0.6931471805599453\n",
      "8.0\n",
      "1.0\n",
      "0.0\n",
      "1.6197751905438615\n",
      "100\n",
      "1.0\n",
      "2.0\n"
     ]
    }
   ],
   "source": [
    "import math\n",
    "a= 4.6\n",
    "print (math.ceil(a))\n",
    "print (math.floor(a))\n",
    "b=9\n",
    "print (math.sqrt(b))\n",
    "print (math.exp(3.0))\n",
    "print (math.log(2.0)) #base e\n",
    "print (math.pow(2.0,3.0))\n",
    "print (math.cos(0))\n",
    "print (math.sin(0))\n",
    "print (math.tan(45))\n",
    "print (abs(-100))\n",
    "print (math.log(2.0,2))\n",
    "print (math.log(100,10))"
   ]
  },
  {
   "cell_type": "code",
   "execution_count": 33,
   "metadata": {},
   "outputs": [
    {
     "name": "stdin",
     "output_type": "stream",
     "text": [
      " 111\n"
     ]
    },
    {
     "name": "stdout",
     "output_type": "stream",
     "text": [
      "7\n"
     ]
    }
   ],
   "source": [
    "n=input()\n",
    "s=0\n",
    "for i in range(len(n)):\n",
    "    k=int(n[i])*pow(2,len(n)-1-i)\n",
    "    s=s+k\n",
    "print(s)"
   ]
  },
  {
   "cell_type": "code",
   "execution_count": 3,
   "metadata": {},
   "outputs": [
    {
     "name": "stdin",
     "output_type": "stream",
     "text": [
      " 1111\n"
     ]
    },
    {
     "name": "stdout",
     "output_type": "stream",
     "text": [
      "15\n"
     ]
    }
   ],
   "source": [
    "n=int(input())\n",
    "s=0\n",
    "c=0\n",
    "while(n!=0):\n",
    "    x=n%10\n",
    "    k=x*pow(2,c)\n",
    "    s=s+k\n",
    "    n=n//10\n",
    "    c+=1\n",
    "print(int(s))"
   ]
  },
  {
   "cell_type": "code",
   "execution_count": null,
   "metadata": {},
   "outputs": [],
   "source": []
  },
  {
   "cell_type": "code",
   "execution_count": null,
   "metadata": {},
   "outputs": [],
   "source": []
  }
 ],
 "metadata": {
  "kernelspec": {
   "display_name": "Python 3",
   "language": "python",
   "name": "python3"
  },
  "language_info": {
   "codemirror_mode": {
    "name": "ipython",
    "version": 3
   },
   "file_extension": ".py",
   "mimetype": "text/x-python",
   "name": "python",
   "nbconvert_exporter": "python",
   "pygments_lexer": "ipython3",
   "version": "3.7.3"
  }
 },
 "nbformat": 4,
 "nbformat_minor": 2
}
