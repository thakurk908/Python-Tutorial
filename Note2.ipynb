{
 "cells": [
  {
   "cell_type": "code",
   "execution_count": 123,
   "metadata": {},
   "outputs": [],
   "source": [
    "#Day 3 "
   ]
  },
  {
   "cell_type": "code",
   "execution_count": 124,
   "metadata": {},
   "outputs": [
    {
     "name": "stdout",
     "output_type": "stream",
     "text": [
      "['juice', 'tomatoes', 'potatoes', 'bananaes']\n",
      "['green juice', 'tomatoes', 'potatoes', 'bananaes']\n",
      "[5, 'tomatoes', 'potatoes', 'bananaes']\n"
     ]
    }
   ],
   "source": [
    "#Dealing with list data types...\n",
    "#Mutable, can have elements with different data types, enclosed with a square brackets.\n",
    "#Syntax\n",
    "#l=[]\n",
    "grocery_list=['juice','tomatoes','potatoes','bananaes']\n",
    "print(grocery_list)\n",
    "grocery_list[0]='green juice'\n",
    "print(grocery_list)\n",
    "grocery_list[0]=5\n",
    "print(grocery_list)"
   ]
  },
  {
   "cell_type": "code",
   "execution_count": 125,
   "metadata": {},
   "outputs": [
    {
     "name": "stdout",
     "output_type": "stream",
     "text": [
      "['tomatoes', 'potatoes']\n",
      "['tomatoes', 'potatoes']\n"
     ]
    }
   ],
   "source": [
    "#slicing\n",
    "print(grocery_list[1:3])\n",
    "print(grocery_list[-3:-1])"
   ]
  },
  {
   "cell_type": "code",
   "execution_count": 126,
   "metadata": {},
   "outputs": [
    {
     "name": "stdout",
     "output_type": "stream",
     "text": [
      "[[5, 'tomatoes', 'potatoes', 'bananaes'], ['wash', 'Drive', 'Cash', 'Move', 'Write', 'back']]\n"
     ]
    }
   ],
   "source": [
    "other_events=[\"wash\",\"Drive\",\"Cash\",\"Move\",\"Write\",\"back\"]\n",
    "todoList=[grocery_list,other_events]\n",
    "print(todoList)"
   ]
  },
  {
   "cell_type": "code",
   "execution_count": 127,
   "metadata": {},
   "outputs": [
    {
     "name": "stdout",
     "output_type": "stream",
     "text": [
      "Drive\n"
     ]
    }
   ],
   "source": [
    "print(todoList[1][1])"
   ]
  },
  {
   "cell_type": "code",
   "execution_count": 128,
   "metadata": {},
   "outputs": [
    {
     "name": "stdout",
     "output_type": "stream",
     "text": [
      "[5, 'tomatoes', 'potatoes', 'bananaes']\n",
      "[5, 'tomatoes', 'potatoes', 'bananaes', 'onions']\n",
      "[5, 'pickle', 'tomatoes', 'potatoes', 'bananaes', 'onions']\n"
     ]
    }
   ],
   "source": [
    "print(grocery_list)\n",
    "grocery_list.append(\"onions\")\n",
    "print(grocery_list)\n",
    "grocery_list.insert(1,\"pickle\")\n",
    "print(grocery_list)"
   ]
  },
  {
   "cell_type": "code",
   "execution_count": 129,
   "metadata": {},
   "outputs": [
    {
     "name": "stdout",
     "output_type": "stream",
     "text": [
      "[[5, 'pickle', 'tomatoes', 'potatoes', 'bananaes', 'onions'], ['wash', 'Drive', 'Cash', 'Move', 'Write', 'back'], ['red', 'blue', 'green']]\n",
      "['red', 'blue', 'green']\n"
     ]
    }
   ],
   "source": [
    "color=[\"red\",\"blue\",\"green\"]\n",
    "todoList.append(color)\n",
    "print(todoList)\n",
    "print(todoList[0:3][2])"
   ]
  },
  {
   "cell_type": "code",
   "execution_count": 130,
   "metadata": {},
   "outputs": [
    {
     "name": "stdout",
     "output_type": "stream",
     "text": [
      "[5, 'pickle', 'tomatoes', 'potatoes', 'bananaes', 'onions']\n",
      "['pickle', 'tomatoes', 'potatoes', 'bananaes', 'onions', 'pickle']\n"
     ]
    }
   ],
   "source": [
    "print(grocery_list)\n",
    "grocery_list.append(\"pickle\")\n",
    "grocery_list.remove(5)\n",
    "print(grocery_list)"
   ]
  },
  {
   "cell_type": "code",
   "execution_count": 131,
   "metadata": {},
   "outputs": [],
   "source": [
    "todoList.remove(color)"
   ]
  },
  {
   "cell_type": "code",
   "execution_count": 132,
   "metadata": {},
   "outputs": [
    {
     "name": "stdout",
     "output_type": "stream",
     "text": [
      "['pickle', 'tomatoes', 'potatoes', 'bananaes', 'onions', 'pickle']\n",
      "['bananaes', 'onions', 'pickle', 'pickle', 'potatoes', 'tomatoes']\n",
      "[['bananaes', 'onions', 'pickle', 'pickle', 'potatoes', 'tomatoes'], ['wash', 'Drive', 'Cash', 'Move', 'Write', 'back']]\n"
     ]
    }
   ],
   "source": [
    "print(grocery_list)\n",
    "grocery_list.sort()\n",
    "print(grocery_list)\n",
    "print(todoList)"
   ]
  },
  {
   "cell_type": "code",
   "execution_count": 133,
   "metadata": {},
   "outputs": [
    {
     "name": "stdout",
     "output_type": "stream",
     "text": [
      "[3, 3, 4, 6, 8, 9]\n",
      "4\n"
     ]
    }
   ],
   "source": [
    "l=[9,8,6,3,4,3]\n",
    "l.sort() #Returns Null ? (Find)\n",
    "print(l)\n",
    "print(l[2])"
   ]
  },
  {
   "cell_type": "code",
   "execution_count": 134,
   "metadata": {},
   "outputs": [
    {
     "name": "stdout",
     "output_type": "stream",
     "text": [
      "None\n",
      "[9, 8, 6, 4, 3, 3]\n"
     ]
    },
    {
     "data": {
      "text/plain": [
       "'\\nNone() returns  N\\n[9, 8, 6, 4, 3, 3]\\n'"
      ]
     },
     "execution_count": 134,
     "metadata": {},
     "output_type": "execute_result"
    }
   ],
   "source": [
    "print(l.reverse())\n",
    "print(l)\n",
    "\n",
    "\"\"\"\n",
    "None() returns  N\n",
    "[9, 8, 6, 4, 3, 3]\n",
    "\"\"\""
   ]
  },
  {
   "cell_type": "code",
   "execution_count": 135,
   "metadata": {},
   "outputs": [
    {
     "name": "stdout",
     "output_type": "stream",
     "text": [
      "['bananaes', 'onions', 'pickle', 'pickle', 'potatoes', 'tomatoes']\n",
      "['onions', 'pickle', 'tomatoes']\n"
     ]
    }
   ],
   "source": [
    "print(grocery_list)\n",
    "del grocery_list[0]\n",
    "del grocery_list[2:4]\n",
    "print(grocery_list)"
   ]
  },
  {
   "cell_type": "code",
   "execution_count": 136,
   "metadata": {},
   "outputs": [
    {
     "name": "stdout",
     "output_type": "stream",
     "text": [
      "['qq', 34.4, True, 100]\n",
      "['aa', 32.2, False, 435]\n",
      "['qq', 34.4, True, 100, 'aa', 32.2, False, 435]\n",
      "(['qq', 34.4, True, 100], ['aa', 32.2, False, 435])\n"
     ]
    }
   ],
   "source": [
    "myList1=[\"qq\",34.4,True,100]\n",
    "myList2=[\"aa\",32.2,False,435]\n",
    "print(myList1)\n",
    "print(myList2)\n",
    "myList3=myList1+myList2\n",
    "print(myList3)\n",
    "myList4=myList1,myList2\n",
    "print(myList4)"
   ]
  },
  {
   "cell_type": "code",
   "execution_count": 137,
   "metadata": {},
   "outputs": [
    {
     "name": "stdout",
     "output_type": "stream",
     "text": [
      "['qq', 34.4, True, 100]\n",
      "[[1, 2, 3], [3, 4, 5], [5, 6, 7]]\n"
     ]
    },
    {
     "data": {
      "text/plain": [
       "\"\\nOUTPUT\\nNameError: name 'myList' is not defined\\n\""
      ]
     },
     "execution_count": 137,
     "metadata": {},
     "output_type": "execute_result"
    }
   ],
   "source": [
    "print(myList1)\n",
    "del myList1\n",
    "print(myList)\n",
    "\"\"\"\n",
    "OUTPUT\n",
    "NameError: name 'myList' is not defined\n",
    "\"\"\""
   ]
  },
  {
   "cell_type": "code",
   "execution_count": 138,
   "metadata": {},
   "outputs": [
    {
     "name": "stdout",
     "output_type": "stream",
     "text": [
      "6\n",
      "7\n",
      "1\n"
     ]
    }
   ],
   "source": [
    "l1=[2,1,3,7,5,7]\n",
    "print(len(l1))\n",
    "print(max(l1))\n",
    "print(min(l1))"
   ]
  },
  {
   "cell_type": "code",
   "execution_count": 139,
   "metadata": {},
   "outputs": [
    {
     "name": "stdout",
     "output_type": "stream",
     "text": [
      "[1, 2, 3]\n",
      "1\n",
      "2\n",
      "3\n",
      "[3, 4, 5]\n",
      "3\n",
      "4\n",
      "5\n",
      "[5, 6, 7]\n",
      "5\n",
      "6\n",
      "7\n"
     ]
    }
   ],
   "source": [
    "myList=[[1,2,3],[3,4,5],[5,6,7]]\n",
    "for i in myList:\n",
    "    print(i)\n",
    "    for j in i:\n",
    "        print(j)"
   ]
  },
  {
   "cell_type": "code",
   "execution_count": 140,
   "metadata": {},
   "outputs": [
    {
     "name": "stdout",
     "output_type": "stream",
     "text": [
      "(1, 2, 'amit', 'male', 34)\n"
     ]
    }
   ],
   "source": [
    "# Tuple Data Types...\n",
    "# Immutable,enclosed in ().\n",
    "# example\n",
    "myTuple=(1,2,\"amit\",\"male\",34)\n",
    "print (myTuple)"
   ]
  },
  {
   "cell_type": "code",
   "execution_count": 141,
   "metadata": {},
   "outputs": [
    {
     "name": "stdout",
     "output_type": "stream",
     "text": [
      "amit\n"
     ]
    }
   ],
   "source": [
    "pi_tuple=(3,1,4,\"amit\",5,9)\n",
    "print(pi_tuple[3])"
   ]
  },
  {
   "cell_type": "code",
   "execution_count": 142,
   "metadata": {},
   "outputs": [
    {
     "data": {
      "text/plain": [
       "\"\\nOUTPUT:\\nTypeError: 'tuple' object does not support item assignment\\nBecause Tuple is immutable.\\n\""
      ]
     },
     "execution_count": 142,
     "metadata": {},
     "output_type": "execute_result"
    }
   ],
   "source": [
    "# pi_tuple[3]=9\n",
    "\"\"\"\n",
    "OUTPUT:\n",
    "TypeError: 'tuple' object does not support item assignment\n",
    "Because Tuple is immutable.\n",
    "\"\"\""
   ]
  },
  {
   "cell_type": "code",
   "execution_count": 143,
   "metadata": {},
   "outputs": [
    {
     "name": "stdout",
     "output_type": "stream",
     "text": [
      "[3, 1, 4, 'amit', 5, 9]\n",
      "(3, 1, 4, 'amit', 5, 9, 'ram')\n"
     ]
    }
   ],
   "source": [
    "pl_tuple=list(pi_tuple)\n",
    "print(pl_tuple)\n",
    "pl_tuple.append(\"ram\")\n",
    "pi_tuple=tuple(pl_tuple)\n",
    "print(pi_tuple)"
   ]
  },
  {
   "cell_type": "code",
   "execution_count": 144,
   "metadata": {},
   "outputs": [
    {
     "name": "stdout",
     "output_type": "stream",
     "text": [
      "5\n",
      "9\n",
      "1\n"
     ]
    }
   ],
   "source": [
    "my_tuple=(3,2,4,1,9)\n",
    "print(len(my_tuple))\n",
    "print(max(my_tuple))\n",
    "print(min(my_tuple))"
   ]
  },
  {
   "cell_type": "code",
   "execution_count": 145,
   "metadata": {},
   "outputs": [],
   "source": [
    "#Dectionary data types..."
   ]
  },
  {
   "cell_type": "code",
   "execution_count": 146,
   "metadata": {},
   "outputs": [
    {
     "name": "stdout",
     "output_type": "stream",
     "text": [
      "{'banana': 'yellow', 'apple': 'Red', 'Orange': 'Orange', 'guava': 'Green', 'grape': 'Black'}\n"
     ]
    }
   ],
   "source": [
    "fruit={\"banana\":\"yellow\",\n",
    "       \"apple\":\"Red\",\n",
    "       \"Orange\":\"Orange\",\n",
    "       \"guava\":\"Green\",\n",
    "       \"grape\":\"Black\"\n",
    "}\n",
    "print(fruit)"
   ]
  },
  {
   "cell_type": "code",
   "execution_count": 147,
   "metadata": {},
   "outputs": [
    {
     "name": "stdout",
     "output_type": "stream",
     "text": [
      "yellow\n"
     ]
    }
   ],
   "source": [
    "print(fruit[\"banana\"])"
   ]
  },
  {
   "cell_type": "code",
   "execution_count": 148,
   "metadata": {},
   "outputs": [
    {
     "name": "stdout",
     "output_type": "stream",
     "text": [
      "{'banana': 'yellow', 'apple': 'Red', 'Orange': 'Orange', 'grape': 'Black'}\n"
     ]
    }
   ],
   "source": [
    "del fruit[\"guava\"]\n",
    "print(fruit)"
   ]
  },
  {
   "cell_type": "code",
   "execution_count": 149,
   "metadata": {},
   "outputs": [
    {
     "data": {
      "text/plain": [
       "'\\nOUTPUT:\\nKEYERROR\\nno key with name mango\\n'"
      ]
     },
     "execution_count": 149,
     "metadata": {},
     "output_type": "execute_result"
    }
   ],
   "source": [
    "# del fruit[\"mango\"]\n",
    "# print(fruit)\n",
    "\"\"\"\n",
    "OUTPUT:\n",
    "KEYERROR\n",
    "no key with name mango\n",
    "\"\"\""
   ]
  },
  {
   "cell_type": "code",
   "execution_count": 150,
   "metadata": {},
   "outputs": [
    {
     "name": "stdout",
     "output_type": "stream",
     "text": [
      "{'banana': 'yellow', 'apple': 'Red', 'Orange': 'Orange', 'grape': 'green', 'mango': 'tasty'}\n"
     ]
    }
   ],
   "source": [
    "fruit[\"grape\"]='green'\n",
    "fruit[\"mango\"]='tasty'\n",
    "print(fruit)"
   ]
  },
  {
   "cell_type": "code",
   "execution_count": 151,
   "metadata": {},
   "outputs": [
    {
     "name": "stdout",
     "output_type": "stream",
     "text": [
      "green\n",
      "dict_keys(['banana', 'apple', 'Orange', 'grape', 'mango'])\n",
      "dict_values(['yellow', 'Red', 'Orange', 'green', 'tasty'])\n",
      "dict_items([('banana', 'yellow'), ('apple', 'Red'), ('Orange', 'Orange'), ('grape', 'green'), ('mango', 'tasty')])\n"
     ]
    }
   ],
   "source": [
    "print (fruit.get(\"grape\"))\n",
    "print (fruit.keys())\n",
    "print (fruit.values())\n",
    "print (fruit.items())"
   ]
  },
  {
   "cell_type": "code",
   "execution_count": 153,
   "metadata": {},
   "outputs": [],
   "source": [
    "#del fruit\n",
    "#print(fruit)"
   ]
  },
  {
   "cell_type": "code",
   "execution_count": 156,
   "metadata": {},
   "outputs": [
    {
     "data": {
      "text/plain": [
       "set()"
      ]
     },
     "execution_count": 156,
     "metadata": {},
     "output_type": "execute_result"
    }
   ],
   "source": [
    "# dealing with set\n",
    "# creating with empty set\n",
    "empty_set=set()\n",
    "empty_set\n"
   ]
  },
  {
   "cell_type": "code",
   "execution_count": 157,
   "metadata": {},
   "outputs": [
    {
     "name": "stdout",
     "output_type": "stream",
     "text": [
      "set()\n"
     ]
    }
   ],
   "source": [
    "print(empty_set)"
   ]
  },
  {
   "cell_type": "code",
   "execution_count": 158,
   "metadata": {},
   "outputs": [
    {
     "name": "stdout",
     "output_type": "stream",
     "text": [
      "{'python', 'r', 'java'}\n",
      "{'python', 'cobra', 'viper'}\n"
     ]
    }
   ],
   "source": [
    "languages ={\"python\",\"r\",\"java\"}\n",
    "snakes=set([\"cobra\",\"viper\",\"python\",\"python\"])\n",
    "print(languages)\n",
    "print(snakes)"
   ]
  },
  {
   "cell_type": "code",
   "execution_count": 159,
   "metadata": {},
   "outputs": [
    {
     "data": {
      "text/plain": [
       "3"
      ]
     },
     "execution_count": 159,
     "metadata": {},
     "output_type": "execute_result"
    }
   ],
   "source": [
    "len(snakes)"
   ]
  },
  {
   "cell_type": "code",
   "execution_count": 161,
   "metadata": {},
   "outputs": [
    {
     "data": {
      "text/plain": [
       "True"
      ]
     },
     "execution_count": 161,
     "metadata": {},
     "output_type": "execute_result"
    }
   ],
   "source": [
    "\"python\" in languages"
   ]
  },
  {
   "cell_type": "code",
   "execution_count": 162,
   "metadata": {},
   "outputs": [
    {
     "data": {
      "text/plain": [
       "True"
      ]
     },
     "execution_count": 162,
     "metadata": {},
     "output_type": "execute_result"
    }
   ],
   "source": [
    "\"Kotlin\" not in languages"
   ]
  },
  {
   "cell_type": "code",
   "execution_count": 163,
   "metadata": {},
   "outputs": [
    {
     "data": {
      "text/plain": [
       "{'python'}"
      ]
     },
     "execution_count": 163,
     "metadata": {},
     "output_type": "execute_result"
    }
   ],
   "source": [
    "#Set intersection\n",
    "languages & snakes"
   ]
  },
  {
   "cell_type": "code",
   "execution_count": 164,
   "metadata": {},
   "outputs": [
    {
     "data": {
      "text/plain": [
       "{'cobra', 'java', 'python', 'r', 'viper'}"
      ]
     },
     "execution_count": 164,
     "metadata": {},
     "output_type": "execute_result"
    }
   ],
   "source": [
    "# set union\n",
    "languages | snakes"
   ]
  },
  {
   "cell_type": "code",
   "execution_count": 165,
   "metadata": {},
   "outputs": [
    {
     "data": {
      "text/plain": [
       "{'java', 'r'}"
      ]
     },
     "execution_count": 165,
     "metadata": {},
     "output_type": "execute_result"
    }
   ],
   "source": [
    "#set difference\n",
    "languages-snakes"
   ]
  },
  {
   "cell_type": "code",
   "execution_count": 166,
   "metadata": {},
   "outputs": [
    {
     "data": {
      "text/plain": [
       "{'cobra', 'viper'}"
      ]
     },
     "execution_count": 166,
     "metadata": {},
     "output_type": "execute_result"
    }
   ],
   "source": [
    "#set difference\n",
    "snakes-languages"
   ]
  },
  {
   "cell_type": "code",
   "execution_count": 167,
   "metadata": {},
   "outputs": [
    {
     "name": "stdout",
     "output_type": "stream",
     "text": [
      "{'python', 'r', 'sql'}\n"
     ]
    }
   ],
   "source": [
    "languages.add(\"sql\")\n",
    "languages.add(\"r\")\n",
    "languages.remove(\"java\")\n",
    "print(languages)"
   ]
  },
  {
   "cell_type": "code",
   "execution_count": 174,
   "metadata": {},
   "outputs": [
    {
     "data": {
      "text/plain": [
       "'\\n---------------------------------------------------------------------------\\nKeyError                                  Traceback (most recent call last)\\n<ipython-input-173-48a35ce432ad> in <module>\\n----> 1 languages.remove(\"c++\")\\n\\nKeyError: \\'c++\\'\\n'"
      ]
     },
     "execution_count": 174,
     "metadata": {},
     "output_type": "execute_result"
    }
   ],
   "source": [
    "languages.remove(\"c++\") #cannot handle exception\n",
    "\"\"\"\n",
    "---------------------------------------------------------------------------\n",
    "KeyError                                  Traceback (most recent call last)\n",
    "<ipython-input-173-48a35ce432ad> in <module>\n",
    "----> 1 languages.remove(\"c++\")\n",
    "\n",
    "KeyError: 'c++'\n",
    "\"\"\""
   ]
  },
  {
   "cell_type": "code",
   "execution_count": 169,
   "metadata": {},
   "outputs": [],
   "source": [
    "languages.discard(\"c++\")\n",
    "# can handle exception"
   ]
  },
  {
   "cell_type": "code",
   "execution_count": 172,
   "metadata": {},
   "outputs": [
    {
     "name": "stdout",
     "output_type": "stream",
     "text": [
      "Error: 'c++'\n"
     ]
    }
   ],
   "source": [
    "try:\n",
    "    languages.remove(\"c++\")\n",
    "except KeyError as e:\n",
    "    print (\"Error:\",e)"
   ]
  },
  {
   "cell_type": "code",
   "execution_count": 177,
   "metadata": {},
   "outputs": [
    {
     "data": {
      "text/plain": [
       "'sql'"
      ]
     },
     "execution_count": 177,
     "metadata": {},
     "output_type": "execute_result"
    }
   ],
   "source": [
    "languages.pop()\n",
    "#retrive arbitary member "
   ]
  },
  {
   "cell_type": "code",
   "execution_count": 179,
   "metadata": {},
   "outputs": [
    {
     "name": "stdout",
     "output_type": "stream",
     "text": [
      "set()\n"
     ]
    }
   ],
   "source": [
    "languages.clear()\n",
    "#clear the elements of set, Basically an empty set\n",
    "print(languages)"
   ]
  },
  {
   "cell_type": "code",
   "execution_count": 182,
   "metadata": {},
   "outputs": [
    {
     "name": "stdout",
     "output_type": "stream",
     "text": [
      "{'l', 'o', 'a', 'c', 's', 'g'}\n"
     ]
    }
   ],
   "source": [
    "languages.update(\"scala\",'go')\n",
    "# what it does check\n",
    "print(languages)"
   ]
  },
  {
   "cell_type": "code",
   "execution_count": 184,
   "metadata": {},
   "outputs": [
    {
     "data": {
      "text/plain": [
       "[0, 2, 3, 9, 41]"
      ]
     },
     "execution_count": 184,
     "metadata": {},
     "output_type": "execute_result"
    }
   ],
   "source": [
    "sorted(set([9,0,2,3,41,2]))"
   ]
  },
  {
   "cell_type": "code",
   "execution_count": 185,
   "metadata": {},
   "outputs": [
    {
     "name": "stdout",
     "output_type": "stream",
     "text": [
      "{True, 9, 9.8, 'amal'}\n"
     ]
    }
   ],
   "source": [
    "mySet={\"amal\",True,9.8,9}\n",
    "print(mySet)"
   ]
  },
  {
   "cell_type": "code",
   "execution_count": null,
   "metadata": {},
   "outputs": [],
   "source": []
  }
 ],
 "metadata": {
  "kernelspec": {
   "display_name": "Python 3",
   "language": "python",
   "name": "python3"
  },
  "language_info": {
   "codemirror_mode": {
    "name": "ipython",
    "version": 3
   },
   "file_extension": ".py",
   "mimetype": "text/x-python",
   "name": "python",
   "nbconvert_exporter": "python",
   "pygments_lexer": "ipython3",
   "version": "3.7.3"
  }
 },
 "nbformat": 4,
 "nbformat_minor": 2
}
