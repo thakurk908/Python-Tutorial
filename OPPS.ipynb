{
 "cells": [
  {
   "cell_type": "code",
   "execution_count": 3,
   "metadata": {},
   "outputs": [],
   "source": [
    "#Object Oriented Programming"
   ]
  },
  {
   "cell_type": "code",
   "execution_count": 21,
   "metadata": {},
   "outputs": [
    {
     "name": "stdout",
     "output_type": "stream",
     "text": [
      "class variables 100 and 200 \n",
      "Instance variables 300 and 400\n",
      "class variables 500 and 600 \n",
      "Instance variables 300 and 400\n"
     ]
    }
   ],
   "source": [
    "class My_class:\n",
    "    __class_var1=100\n",
    "    __class_var2=200\n",
    "    def __init__(self,data1,data2):\n",
    "        self.__inst_var1 = data1\n",
    "        self.__inst_var2 = data2\n",
    "    def display(self):\n",
    "        print(\"class variables {} and {} \".format(self.__class_var1,self.__class_var2))\n",
    "        print(\"Instance variables {} and {}\".format(self.__inst_var1,self.__inst_var2))\n",
    "    def update(self,data3,data4):\n",
    "        self.__class_var1= data3\n",
    "        self.__class_var2= data4\n",
    "ob1= My_class(300,400)\n",
    "ob1.display()\n",
    "ob1.update(500,600)\n",
    "ob1.display()\n"
   ]
  },
  {
   "cell_type": "code",
   "execution_count": 28,
   "metadata": {},
   "outputs": [
    {
     "name": "stdout",
     "output_type": "stream",
     "text": [
      "White Cat is 33 cm tall and 10 KG and says Meow\n",
      "Animal\n",
      "Dog is 33 cm tall and 10 KG and says Meow\n",
      "Animal\n"
     ]
    }
   ],
   "source": [
    "class Animal:\n",
    "    def __init__(self,name,height,weight,sound):\n",
    "        self.__name=name\n",
    "        self.__height=height\n",
    "        self.__weight=weight\n",
    "        self.__sound=sound\n",
    "    #defining setter methods\n",
    "    def set_name(self,name):\n",
    "        self.__name=name\n",
    "    def set_height(self,height):\n",
    "        self.__height=height\n",
    "    def set_weight(self,weight):\n",
    "        self.__weight\n",
    "    def set_sound(self,sound):\n",
    "        self.__sound=sound\n",
    "    #defining getter methods\n",
    "    def get_name(self):\n",
    "        return self.__name\n",
    "    def get_height(self):\n",
    "        return self.__height\n",
    "    def get_weight(self):\n",
    "        return self.__weight\n",
    "    def get_sound(self):\n",
    "        return self.__sound\n",
    "    def get_type(self):\n",
    "        print(\"Animal\")\n",
    "    def tostring(self):\n",
    "        return (\"{} is {} cm tall and {} KG and says {}\".format(self.__name,self.__height,\\\n",
    "                                                                self.__weight,self.__sound))\n",
    "cat = Animal(\"White Cat\",33,10,\"Meow\")\n",
    "print (cat.tostring())\n",
    "cat.get_type()\n",
    "cat.set_name(\"Dog\")\n",
    "print (cat.tostring())\n",
    "cat.get_type()"
   ]
  },
  {
   "cell_type": "code",
   "execution_count": null,
   "metadata": {},
   "outputs": [],
   "source": []
  }
 ],
 "metadata": {
  "kernelspec": {
   "display_name": "Python 3",
   "language": "python",
   "name": "python3"
  },
  "language_info": {
   "codemirror_mode": {
    "name": "ipython",
    "version": 3
   },
   "file_extension": ".py",
   "mimetype": "text/x-python",
   "name": "python",
   "nbconvert_exporter": "python",
   "pygments_lexer": "ipython3",
   "version": "3.7.1"
  }
 },
 "nbformat": 4,
 "nbformat_minor": 2
}
